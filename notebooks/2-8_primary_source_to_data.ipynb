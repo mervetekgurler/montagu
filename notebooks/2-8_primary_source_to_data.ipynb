{
 "cells": [
  {
   "cell_type": "markdown",
   "metadata": {},
   "source": [
    "# From Primary Source to Data\n",
    "This Jupyter Notebook is a step-by-step tutorial of the text extraction and dataset building process for the primary source: The Letters of Lady Montagu, originally published in 1763. \n"
   ]
  },
  {
   "cell_type": "markdown",
   "metadata": {},
   "source": [
    "## Text Extraction\n",
    "\n",
    "This tutorial uses an epub copy of the 1790 edition of Montagu's letters. Instead of dealing with low-quality OCR output and complications related to 18th century orthography and spelling, we chose to use a machine readable copy."
   ]
  },
  {
   "cell_type": "code",
   "execution_count": null,
   "metadata": {},
   "outputs": [],
   "source": [
    "!pip install ebooklib"
   ]
  },
  {
   "cell_type": "code",
   "execution_count": null,
   "metadata": {},
   "outputs": [],
   "source": [
    "## Step 1: Text Extraction from ePub\n",
    "\n",
    "import ebooklib\n",
    "from ebooklib import epub\n",
    "from bs4 import BeautifulSoup\n",
    "\n",
    "def extract_text_from_epub(epub_path, output_txt_path):\n",
    "    book = epub.read_epub(epub_path)\n",
    "    text_content = []\n",
    "\n",
    "    for item in book.get_items():\n",
    "        if item.get_type() == ebooklib.ITEM_DOCUMENT:\n",
    "            soup = BeautifulSoup(item.get_content(), 'html.parser')\n",
    "            text_content.append(soup.get_text())\n",
    "\n",
    "    # Join extracted text and save to a file\n",
    "    with open(output_txt_path, 'w', encoding='utf-8') as f:\n",
    "        f.write('\\n'.join(text_content))\n",
    "\n",
    "    print(f\"Text extracted and saved to {output_txt_path}\")\n",
    "\n",
    "# Example usage\n",
    "epub_file = \"../Data/montagu/montagu_2019.epub\" \n",
    "output_text_file = \"../Data/montagu/montagu_2019_unedited.txt\"\n",
    "extract_text_from_epub(epub_file, output_text_file)"
   ]
  },
  {
   "cell_type": "markdown",
   "metadata": {},
   "source": [
    "### Glitches\n",
    "\n",
    "Historical data is not always very clean, even if it is already processed by contemporary scholars. In this example, I know that I only wanted the letters but there are introductory materials and other scholarly commentary. I prefer to edit these out and often it is easier to do it manually.\n",
    "\n",
    "After this step, I created a copy of montagu_2019_unedited and renamed it to montagu_2019. Then, I manually removed the materials before the letters and the materials after the letters and saved them to different text files (not shared here). This made the text segmentation process below easier."
   ]
  },
  {
   "cell_type": "code",
   "execution_count": null,
   "metadata": {},
   "outputs": [],
   "source": [
    "## Step 2: Splitting Letters\n",
    "\n",
    "import os\n",
    "import re\n",
    "\n",
    "def split_letters(file_path, output_folder):\n",
    "    # Ensure output folder exists\n",
    "    os.makedirs(output_folder, exist_ok=True)\n",
    "\n",
    "    # Read the entire text file\n",
    "    with open(file_path, \"r\", encoding=\"utf-8\") as f:\n",
    "        text = f.read()\n",
    "\n",
    "    # Use regex to find all letters (assuming they start with \"LETTER. X\")\n",
    "    # Improved regex to handle \"LETTER VIII\", \"LET. VIII\", and other variations\n",
    "    letters = re.split(r\"(?=\\nLET(?:TER)?(?:\\.|\\s)\\s*[IVXLCDM\\d]+)\", text)\n",
    "\n",
    "    # Remove any empty splits\n",
    "    letters = [letter.strip() for letter in letters if letter.strip()]\n",
    "\n",
    "    # Save each letter as a separate file\n",
    "    for i, letter in enumerate(letters, start=1):\n",
    "        file_name = f\"letter_{i}.txt\"\n",
    "        with open(os.path.join(output_folder, file_name), \"w\", encoding=\"utf-8\") as letter_file:\n",
    "            letter_file.write(letter)\n",
    "\n",
    "    print(f\"Split {len(letters)} letters into individual files in '{output_folder}'.\")\n",
    "\n",
    "# Example usage\n",
    "input_file = \"../Data/montagu/montagu_2019.txt\"  # Path to uploaded file\n",
    "output_directory = \"../Data/montagu/montagu_letters\"  # Folder for individual letter files\n",
    "split_letters(input_file, output_directory)"
   ]
  },
  {
   "cell_type": "markdown",
   "metadata": {},
   "source": [
    "### Why does this work?\n",
    "\n",
    "In the code below we relied on a few assumptions about the structure of the extracted letters.\n",
    "\n",
    "Firstly, We know that the all the extracted letters begin with the letter title. So, we could savely assume this: title = lines[0]\n",
    "\n",
    "Secondly, we know that the addressee starts with a version of \"to\" (TO; To; to). With this in mind, we created a regex that searches for this.\n",
    "\n",
    "Thirdly, we know that the location and date information are in this format: \"location, date\" (ie: Nuremberg, Aug. 22. O. S. 1716.). We also know that location,date is often the first line with text after the addressee line. We used this information to simplify our search in finding and splitting the location,date. \n",
    "\n",
    "At the same time we know that some letters have an editor's note between the addressee and the location,date column in this format: [Footnote: ....] Thus, we introduced a skipping condition to skip the line that contains 'Footnote:'\n",
    "\n",
    "Lastly, we designated everything after location,date col to be the body of the letter.\n",
    "\n",
    "Based on these assumptions, we ended up with 51 letters correctly extracted and only 7 needing manual editing. "
   ]
  },
  {
   "cell_type": "code",
   "execution_count": null,
   "metadata": {},
   "outputs": [],
   "source": [
    "# Step 3: CSV\n",
    "\"\"\"\n",
    "Our goal is to create a CSV with the following columns:\n",
    "filename, title, addressee, location, date, body\n",
    "\n",
    "For example\n",
    "letter_5.txt, LET. V., THE COUNTESS OF B——., Nuremberg, Aug. 22. O. S. 1716., textoftheletter \n",
    "\"\"\"\n",
    "import csv\n",
    "\n",
    "# Define the folder where the letters are stored\n",
    "letters_folder = \"../Data/montagu/montagu_letters\" \n",
    "output_file = \"../Data/montagu/montagu_letters_unedited.csv\"\n",
    "\n",
    "# Helper function to extract the numeric index from the filename\n",
    "def get_letter_number(filename):\n",
    "    # Matches filenames like \"letter_1.txt\" -> returns integer 1\n",
    "    match = re.match(r\"letter_(\\d+)\\.txt\", filename)\n",
    "    if match:\n",
    "        return int(match.group(1))\n",
    "    return float(\"inf\")  # Fallback if it doesn't match the pattern\n",
    "\n",
    "# List all text files in the folder, then sort numerically\n",
    "letter_files = [f for f in os.listdir(letters_folder) if f.startswith(\"letter_\") and f.endswith(\".txt\")]\n",
    "letter_files.sort(key=get_letter_number)\n",
    "\n",
    "# Prepare the CSV headers\n",
    "headers = [\"filename\", \"title\", \"addressee\", \"location\", \"date\", \"body\"]\n",
    "\n",
    "# Initialize storage for letters\n",
    "letters_data = []\n",
    "\n",
    "# Loop through each letter file\n",
    "for letter_file in letter_files:\n",
    "    file_path = os.path.join(letters_folder, letter_file)\n",
    "    print(f\"Processing: {file_path}\")\n",
    "\n",
    "    # Read the content of the letter\n",
    "    with open(file_path, \"r\", encoding=\"utf-8\") as file:\n",
    "        lines = [line.strip() for line in file.readlines() if line.strip()]\n",
    "\n",
    "    if not lines:\n",
    "        continue  # Skip empty files\n",
    "\n",
    "    # Extract filename\n",
    "    filename = letter_file\n",
    "\n",
    "    # Extract title (first line)\n",
    "    title = lines[0]\n",
    "\n",
    "    # Extract addressee (line starting with \"To \", \"to \", or \"TO \")\n",
    "    addressee = \"Unknown\"\n",
    "    addressee_index = None\n",
    "    for idx, line in enumerate(lines):\n",
    "        if re.match(r\"^(To|TO|to)\\s+(.*)\", line):\n",
    "            addressee = line.strip()\n",
    "            addressee_index = idx\n",
    "            break\n",
    "\n",
    "    # Extract location and date (first line after addressee, ignoring footnotes)\n",
    "    location, date = \"Unknown\", \"Unknown\"\n",
    "    location_date_line = None\n",
    "\n",
    "    if addressee_index is not None:\n",
    "        for line in lines[addressee_index + 1:]:  # start after the addressee line\n",
    "            if \"Footnote:\" in line:\n",
    "                continue  # skip footnotes\n",
    "            location_date_line = line\n",
    "            break\n",
    "\n",
    "    if location_date_line:\n",
    "        # Split by the first comma\n",
    "        parts = location_date_line.split(\",\", 1)\n",
    "        if len(parts) == 2:\n",
    "            location = parts[0].strip()\n",
    "            date = parts[1].strip()\n",
    "\n",
    "    # Extract body (everything after location/date line)\n",
    "    if location_date_line and location_date_line in lines:\n",
    "        body_start_idx = lines.index(location_date_line) + 1\n",
    "    else:\n",
    "        body_start_idx = addressee_index + 1 if addressee_index is not None else 1\n",
    "\n",
    "    body = \"\\n\".join(lines[body_start_idx:]).strip()\n",
    "\n",
    "    # Store data\n",
    "    letters_data.append([filename, title, addressee, location, date, body])\n",
    "\n",
    "# Write data to CSV file\n",
    "with open(output_file, \"w\", encoding=\"utf-8\", newline=\"\") as csvfile:\n",
    "    writer = csv.writer(csvfile)\n",
    "    writer.writerow(headers)  # Write header row\n",
    "    writer.writerows(letters_data)  # Write letter rows\n",
    "\n",
    "print(f\"CSV file '{output_file}' has been created successfully.\")\n"
   ]
  },
  {
   "cell_type": "code",
   "execution_count": 1,
   "metadata": {},
   "outputs": [
    {
     "data": {
      "application/vnd.microsoft.datawrangler.viewer.v0+json": {
       "columns": [
        {
         "name": "index",
         "rawType": "int64",
         "type": "integer"
        },
        {
         "name": "filename",
         "rawType": "object",
         "type": "string"
        },
        {
         "name": "title",
         "rawType": "object",
         "type": "string"
        },
        {
         "name": "addressee",
         "rawType": "object",
         "type": "string"
        },
        {
         "name": "location",
         "rawType": "object",
         "type": "string"
        },
        {
         "name": "date",
         "rawType": "object",
         "type": "string"
        },
        {
         "name": "body",
         "rawType": "object",
         "type": "string"
        }
       ],
       "ref": "ee6462de-dcd1-47d0-a097-7e1f6c4efb0b",
       "rows": [
        [
         "0",
         "letter_1.txt",
         "LETTER I.",
         "TO THE COUNTESS OF ——.",
         "Rotterdam",
         "Aug. 3. O. S. 1716.",
         "I FLATTER, myself, dear sister, that I shall give you some pleasure in letting you know that I have safely passed\nthe sea, though we had the ill fortune of a storm. We were persuaded by the captain of the yacht to set out in a\ncalm, and he pretended there was nothing so easy as to tide it over; but, after two days slowly moving, the wind\nblew so hard, that none of the sailors could keep their feet, and we were all Sunday night tossed very\nhandsomely. I never saw a man more frighted (sic) than the captain. For my part, I have been so lucky, neither to\nsuffer from fear nor seasickness; though, I confess, I was so impatient to see myself once more upon dry land,\nthat I would not stay till the yacht could get to Rotterdam, but went in the long-boat to Helvoetsluys, where we\nhad voitures to carry us to the Briel. I was charmed with the neatness of that little town; but my arrival at\nRotterdam presented me a new scene of pleasure. All the streets are paved with broad stones, and before many of\nthe meanest artificers doors are placed seats of various coloured marbles, so neatly kept, that, I assure you, I\nwalked almost all over the town yesterday, incognito, in my slippers without receiving one spot of dirt;\nand you may see the Dutch maids washing the pavement of the street, with more application than ours do our\nbed-chambers. The town seems so full of people, with such busy faces, all in motion, that I can hardly fancy it\nis not some celebrated fair; but I see it is every day the same. 'Tis certain no town can be more\nadvantageously situated for commerce. Here are seven large canals, on which the merchants ships come up to the\nvery doors of their houses. The shops and warehouses are of a surprising neatness and magnificence, filled with\nan incredible quantity of fine merchandise, and so much cheaper than what we see in England, that I have much ado\nto persuade myself I am still so near it. Here is neither dirt nor beggary to be seen. One is not shocked with\nthose loathsome cripples, so common in London, nor teased with the importunity of idle fellows and wenches, that\nchuse (sic) to be nasty and lazy. The common servants, and little shop-women, here, are more nicely clean than\nmost of our ladies; and the great variety of neat dresses (every woman dressing her head after her own fashion)\nis an additional pleasure in seeing the town. You see, hitherto, I make no complaints, dear sister; and if I\ncontinue to like travelling as I do at present, I shall not repent my project. It will go a great way in making\nme satisfied with it, if it affords me an opportunity of entertaining you. But it is not from Holland that you\nmay expect a disinterested offer. I can write enough in the stile (sic) of Rotterdam, to tell you plainly,\nin one word that I expect returns of all the London news. You see I have already learnt to make a good bargain;\nand that it is not for nothing I will so much as tell you, I am your affectionate sister."
        ],
        [
         "1",
         "letter_2.txt",
         "LET. II",
         "TO MRS. S——.",
         "Hague",
         "Aug. 5. O. S. 1716.",
         "I MAKE haste to tell you, dear Madam, that, after all the dreadful fatigues you threatened me with, I am hitherto\nvery well pleased with my journey. We take care to make such short stages every day, that I rather fancy myself\nupon parties of pleasure, than upon the road; and sure nothing can be more agreeable than travelling in Holland.\nThe whole country appears a large garden; the roads are well paved, shaded on each side with rows of trees, and\nbordered with large canals, full of boats, passing and repassing. Every twenty paces gives you the prospect of\nsome villa, and every four hours that of a large town, so surprisingly neat, I am sure you would be charmed with\nthem. The place I am now at is certainly one of the finest villages in the world. Here are several squares finely\nbuilt, and (what I think a particular beauty) the whole set with thick large trees. The Vour-hout is, at\nthe same time, the Hyde-Park and Mall of the people of quality; for they take the air in it both on foot and in\ncoaches. There are shops for wafers, cool liquors, &c.—I have been to see several of the most celebrated\ngardens, but I will not teaze (sic) you with their descriptions. I dare say you think my letter already long\nenough. But I must not conclude without begging your pardon, for not obeying your commands, in sending the lace\nyou ordered me. Upon my word, I can yet find none, that is not dearer than you may buy it at London. If you want\nany India goods, here are great variety of penny-worths; and I shall follow your orders with great pleasure and\nexactness; being, Dear Madam, &c. &c."
        ],
        [
         "2",
         "letter_3.txt",
         "LET. III",
         "TO MRS. S. C.",
         "Nimeguen",
         "Aug.13. O. S. 1716.",
         "I AM extremely sorry, my dear S. that your fears of disobliging your relations, and their fears for your health\nand safety, have hindered me from enjoying the happiness of your company, and you the pleasure of a diverting\njourney. I receive some degree of mortification from every agreeable novelty, or pleasing prospect, by the\nreflection of your having so unluckily missed the delight which I know it would have given you. If you were with\nme in this town, you would be ready to expect to receive visits from your Nottingham friends. No two places were\never more resembling; one has but to give the Maese the name of the Trent, and there is no distinguishing the\nprospect. The houses, like those of Nottingham, are built one above another, and are intermixed in the same\nmanner with trees and gardens. The tower they call Julius Caesar's, has the same situation with Nottingham\ncastle; and I cannot help fancying, I see from it the Trentfield, Adboulton, places so well known to us. 'Tis\ntrue, the fortifications make a considerable difference. All the learned in the art of war bestow great\ncommendations on them; for my part, that know nothing of the matter, I shall content myself with telling you,\n'tis a very pretty walk on the ramparts, on which there is a tower, very deservedly called the Belvidera;\nwhere people go to drink coffee, tea, &c. and enjoy one of the finest prospects in the world. The public\nwalks have no great beauty but the thick shade of the trees, which is solemnly delightful. But I must not forget\nto take notice of the bridge, which appeared very surprising to me. It is large enough to hold hundreds of men,\nwith horses and carriages. They give the value of an English two-pence to get upon it, and then away they go,\nbridge and all, to the other side of the river, with so slow a motion, one is hardly sensible of any at all. I\nwas yesterday at the French church, and stared very much at their manner of service. The parson clapped on a\nbroad-brimmed hat in the first place, which gave him entirely the air of what d'ye call him, in\nBartholomew fair, which he kept up by extraordinary antic gestures, and preaching much such stuff as the other\ntalked to the puppets. However, the congregation seemed to receive it with great devotion; and I was informed by\nsome of his flock, that he is a person of particular fame amongst them. I believe, by this time, you are as much\ntired with my account of him, as I was with his sermon; but I am sure your brother will excuse a digression in\nfavour of the church of England. You know speaking disrespectfully of the Calvinists, is the same thing as\nspeaking honourably of the church. Adieu, my dear S. always remember me; and be assured I can never forget you,\n&c. &c."
        ],
        [
         "3",
         "letter_4.txt",
         "LET. IV.",
         "TO THE LADY ——.",
         "Cologn (sic)",
         "Aug, 16. O. S. 1716.",
         "IF my lady —— could have any notion of the fatigues that I have suffered these two last days, I am sure she would\nown it a great proof of regard, that I now sit down to write to her. We hired horses from Nimeguen hither, not\nhaving the conveniency (sic) of the post, and found but very indifferent accommodations at Reinberg, our first\nstage; but it was nothing to what I suffered yesterday. We were in hopes to reach Cologn; our horses tired at\nStamel, three hours from it, where I was forced to pass the night in my clothes, in a room not at all better than\na hovel; for though I have my bed with me, I had no mind to undress, where the wind came from a thousand places.\nWe left this wretched lodging at day-break, and about six this morning came safe here, where I got immediately\ninto bed. I slept so well for three hours, that I found myself perfectly recovered, and have had spirits enough\nto go and see all that is curious in the town, that is to say, the churches, for here is nothing else worth\nseeing. This is a very large town, but the most part of it is old built. The Jesuits church, which is the\nneatest, was shewed (sic) me, in a very complaisant manner, by a handsome young Jesuit; who, not knowing who I\nwas, took a liberty in his compliments and railleries, which very much diverted me. Having never before seen any\nthing of that nature, I could not enough admire the magnificence of the altars, the rich images of the saints\n(all massy silver) and the enchassures of the relicks (sic); though I could not help murmuring, in my\nheart, at the profusion of pearls, diamonds, and rubies, bestowed on the adornment of rotten teeth, and dirty\nrags. I own that I had wickedness enough to covet St Ursula's pearl necklaces; though perhaps this was no\nwickedness at all, an image not being certainly one's neighbour's; but I went yet farther, and wished the\nwench herself converted into dressing-plate. I should also gladly see converted into silver, a great St\nChristopher, which I imagine would look very well in a cistern. These were my pious reflections: though I was\nvery well satisfied to see, piled up to the honour of our nation, the skulls of the eleven thousand virgins. I\nhave seen some hundreds of relicks here of no less, consequence; but I will not imitate the common stile (sic) of\ntravellers so far, as to give you a list of them; being persuaded, that you have no manner of curiosity for the\ntitles given to jaw-bones and bits of worm-eaten wood.—Adieu, I am just going to supper, where I shall drink your\nhealth in an admirable sort of Lorrain (sic) wine, which I am sure is the same you call Burgundy in London,\n&c. &c."
        ],
        [
         "4",
         "letter_5.txt",
         "LET. V.",
         "TO THE COUNTESS OF B——.",
         "Nuremberg",
         "Aug. 22. O. S. 1716.",
         "AFTER five days travelling post, I could not sit down to write on any other occasion, than to tell my dear lady,\nthat I have not forgot her obliging command, of sending her some account of my travels. I have already passed a\nlarge part of Germany, have seen all that is remarkable in Cologn, Frankfort, Wurtsburg, and this place. 'Tis\nimpossible not to observe the difference between the free towns and those under the government of absolute\nprinces, as all the little sovereigns of Germany are. In the first, there appears an air of commerce and plenty.\nThe streets are well-built, and full of people, neatly and plainly dressed. The shops are loaded with\nmerchandise, and the commonalty are clean and cheerful. In the other you see a sort of shabby finery, a number of\ndirty people of quality tawdered (sic) out; narrow nasty streets out of repair, wretchedly thin of inhabitants,\nand above half of the common sort asking alms. I cannot help fancying one under the figure of a clean Dutch\ncitizen's wife, and the other like a poor town lady of pleasure, painted and ribboned out in her head-dress,\nwith tarnished silver-laced shoes, a ragged under-petticoat, a miserable mixture of vice and poverty.—They have\nsumptuary laws in this town, which distinguish their rank by their dress, prevent the excess which ruins so many\nother cities, and has a more agreeable effect to the eye of a stranger, than our fashions. I need not be ashamed\nto own, that I wish these laws were in force in other parts of the world. When one considers impartially, the\nmerit of a rich suit of clothes in most places, the respect and the smiles of favour it procures, not to speak of\nthe envy and the sighs it occasions (which is very often the principal charm to the wearer), one is forced to\nconfess, that there is need of an uncommon understanding to resift the temptation of pleasing friends and\nmortifying rivals; and that it is natural to young people to fall into a folly, which betrays them to that want\nof money which is the source of a thousand basenesses (sic). What numbers of men have begun the world with\ngenerous inclinations, that have afterwards been the instruments of bringing misery on a whole people, being led\nby vain expence (sic) into debts that they could clear no other way but by the forfeit of their honour, and which\nthey never could have contracted, if the respect the multitude pays to habits, was fixed by law, only to a\nparticular colour or cut of plain cloth! These reflections draw after them others that are too melancholy. I will\nmake haste to put them out of your head by the farce of relicks, with which I have been entertained in all Romish\nchurches.\nTHE Lutherans are not quite free from these follies. I have seen here, in the principal church, a large piece of\nthe cross set in jewels, and the point of the spear, which they told me very gravely, was the same that pierced\nthe side of our Saviour. But I was particularly diverted in a little Roman Catholic church which is permitted\nhere, where the professors of that religion are not very rich, and consequently cannot adorn their images in so\nrich a manner as their neighbour. For, not to be quite destitute of all finery, they have dressed up an image of\nour Saviour over the altar, in a fair full-bottomed wig very well powdered. I imagine I see your lady ship stare\nat this article, of which you very much doubt the veracity; but, upon my word, I have not yet made use of the\nprivilege of a traveller; and my whole account is written with the same plain sincerity of heart, with which I\nassure you that I am, dear Madam, yours, &c. &c."
        ]
       ],
       "shape": {
        "columns": 6,
        "rows": 5
       }
      },
      "text/html": [
       "<div>\n",
       "<style scoped>\n",
       "    .dataframe tbody tr th:only-of-type {\n",
       "        vertical-align: middle;\n",
       "    }\n",
       "\n",
       "    .dataframe tbody tr th {\n",
       "        vertical-align: top;\n",
       "    }\n",
       "\n",
       "    .dataframe thead th {\n",
       "        text-align: right;\n",
       "    }\n",
       "</style>\n",
       "<table border=\"1\" class=\"dataframe\">\n",
       "  <thead>\n",
       "    <tr style=\"text-align: right;\">\n",
       "      <th></th>\n",
       "      <th>filename</th>\n",
       "      <th>title</th>\n",
       "      <th>addressee</th>\n",
       "      <th>location</th>\n",
       "      <th>date</th>\n",
       "      <th>body</th>\n",
       "    </tr>\n",
       "  </thead>\n",
       "  <tbody>\n",
       "    <tr>\n",
       "      <th>0</th>\n",
       "      <td>letter_1.txt</td>\n",
       "      <td>LETTER I.</td>\n",
       "      <td>TO THE COUNTESS OF ——.</td>\n",
       "      <td>Rotterdam</td>\n",
       "      <td>Aug. 3. O. S. 1716.</td>\n",
       "      <td>I FLATTER, myself, dear sister, that I shall g...</td>\n",
       "    </tr>\n",
       "    <tr>\n",
       "      <th>1</th>\n",
       "      <td>letter_2.txt</td>\n",
       "      <td>LET. II</td>\n",
       "      <td>TO MRS. S——.</td>\n",
       "      <td>Hague</td>\n",
       "      <td>Aug. 5. O. S. 1716.</td>\n",
       "      <td>I MAKE haste to tell you, dear Madam, that, af...</td>\n",
       "    </tr>\n",
       "    <tr>\n",
       "      <th>2</th>\n",
       "      <td>letter_3.txt</td>\n",
       "      <td>LET. III</td>\n",
       "      <td>TO MRS. S. C.</td>\n",
       "      <td>Nimeguen</td>\n",
       "      <td>Aug.13. O. S. 1716.</td>\n",
       "      <td>I AM extremely sorry, my dear S. that your fea...</td>\n",
       "    </tr>\n",
       "    <tr>\n",
       "      <th>3</th>\n",
       "      <td>letter_4.txt</td>\n",
       "      <td>LET. IV.</td>\n",
       "      <td>TO THE LADY ——.</td>\n",
       "      <td>Cologn (sic)</td>\n",
       "      <td>Aug, 16. O. S. 1716.</td>\n",
       "      <td>IF my lady —— could have any notion of the fat...</td>\n",
       "    </tr>\n",
       "    <tr>\n",
       "      <th>4</th>\n",
       "      <td>letter_5.txt</td>\n",
       "      <td>LET. V.</td>\n",
       "      <td>TO THE COUNTESS OF B——.</td>\n",
       "      <td>Nuremberg</td>\n",
       "      <td>Aug. 22. O. S. 1716.</td>\n",
       "      <td>AFTER five days travelling post, I could not s...</td>\n",
       "    </tr>\n",
       "  </tbody>\n",
       "</table>\n",
       "</div>"
      ],
      "text/plain": [
       "       filename      title                addressee      location  \\\n",
       "0  letter_1.txt  LETTER I.   TO THE COUNTESS OF ——.     Rotterdam   \n",
       "1  letter_2.txt    LET. II             TO MRS. S——.         Hague   \n",
       "2  letter_3.txt   LET. III            TO MRS. S. C.      Nimeguen   \n",
       "3  letter_4.txt   LET. IV.          TO THE LADY ——.  Cologn (sic)   \n",
       "4  letter_5.txt    LET. V.  TO THE COUNTESS OF B——.     Nuremberg   \n",
       "\n",
       "                   date                                               body  \n",
       "0   Aug. 3. O. S. 1716.  I FLATTER, myself, dear sister, that I shall g...  \n",
       "1   Aug. 5. O. S. 1716.  I MAKE haste to tell you, dear Madam, that, af...  \n",
       "2   Aug.13. O. S. 1716.  I AM extremely sorry, my dear S. that your fea...  \n",
       "3  Aug, 16. O. S. 1716.  IF my lady —— could have any notion of the fat...  \n",
       "4  Aug. 22. O. S. 1716.  AFTER five days travelling post, I could not s...  "
      ]
     },
     "execution_count": 1,
     "metadata": {},
     "output_type": "execute_result"
    }
   ],
   "source": [
    "import pandas as pd\n",
    "\n",
    "# Load the CSV file into a DataFrame\n",
    "montagu_unedited = pd.read_csv('../Data/montagu/montagu_letters_unedited.csv')\n",
    "montagu_unedited.head()"
   ]
  },
  {
   "cell_type": "code",
   "execution_count": null,
   "metadata": {},
   "outputs": [],
   "source": [
    "# Let's make sure that we got all the 58 letters\n",
    "montagu_unedited.shape"
   ]
  },
  {
   "cell_type": "code",
   "execution_count": null,
   "metadata": {},
   "outputs": [],
   "source": [
    "# Some descriptive statistics, especially relevant are unique counts of addressee, location, and date\n",
    "montagu_unedited.describe()"
   ]
  },
  {
   "cell_type": "code",
   "execution_count": null,
   "metadata": {},
   "outputs": [],
   "source": [
    "# What are the data types of the columns?\n",
    "print(montagu_unedited.dtypes)"
   ]
  },
  {
   "cell_type": "code",
   "execution_count": null,
   "metadata": {},
   "outputs": [],
   "source": [
    "# Check for missing values in the DataFrame\n",
    "print(montagu_unedited.isnull().sum())"
   ]
  },
  {
   "cell_type": "code",
   "execution_count": null,
   "metadata": {},
   "outputs": [],
   "source": [
    "# Another way to check for missing values\n",
    "montagu_unedited.isna().sum()"
   ]
  },
  {
   "cell_type": "code",
   "execution_count": null,
   "metadata": {},
   "outputs": [],
   "source": [
    "# Compare isna() vs isna().sum()\n",
    "# montagu_unedited.isna() returns a DataFrame of boolean values indicating missing data\n",
    "# montagu_unedited.isna().sum() returns a Series with the count of missing values per column\n",
    "\n",
    "montagu_unedited.isna()\n",
    "\n",
    "# This has its own uses too but clearly not what we want here"
   ]
  },
  {
   "cell_type": "code",
   "execution_count": null,
   "metadata": {},
   "outputs": [],
   "source": [
    "# We could have also done this with the `info()` method\n",
    "montagu_unedited.info()"
   ]
  },
  {
   "cell_type": "code",
   "execution_count": null,
   "metadata": {},
   "outputs": [],
   "source": [
    "# This seems fine?? Are we ready to move on?\n",
    "\n",
    "# Let's see if we have any unkowns\n",
    "print('addressee')\n",
    "print(montagu_unedited[montagu_unedited['addressee'] == 'Unknown'])\n",
    "\n",
    "print('location')\n",
    "print(montagu_unedited[montagu_unedited['location'] == 'Unknown'])\n",
    "\n",
    "print('date')\n",
    "print(montagu_unedited[montagu_unedited['date'] == 'Unknown'])"
   ]
  },
  {
   "cell_type": "markdown",
   "metadata": {},
   "source": [
    "### Unknown\n",
    "\n",
    "We employed this trick in our code, where we first created everything with the string 'Unknown' and then filled it in if the information was there. Here is the snippet:\n",
    "\n",
    "    addressee = \"Unknown\"\n",
    "    addressee_index = None\n",
    "    for idx, line in enumerate(lines):\n",
    "        if re.match(r\"^(To|TO|to)\\s+(.*)\", line):\n",
    "            addressee = line.strip()\n",
    "            addressee_index = idx\n",
    "            break\n"
   ]
  },
  {
   "cell_type": "code",
   "execution_count": null,
   "metadata": {},
   "outputs": [],
   "source": [
    "# Let's get all the unknowns and see how many we have and in which rows\n",
    "unknowns = montagu_unedited[(montagu_unedited['addressee'] == 'Unknown') |\n",
    "                            (montagu_unedited['location'] == 'Unknown') |\n",
    "                            (montagu_unedited['date'] == 'Unknown')]\n",
    "print(unknowns)"
   ]
  },
  {
   "cell_type": "markdown",
   "metadata": {},
   "source": [
    "### Editing\n",
    "\n",
    "At this point, I decided to edit these unknowns manually. While we want to do a lot of things with code, we also shouldn't forget that manual data cleaning is always an option. Besides you will learn a lot about your dataset by doing that.\n",
    "\n",
    "I edited these issues and continued with data augmentation on Google Sheets.\n",
    "\n",
    "Oh and before I forget, I also edited the **dates**. the standard format for dates in computational research is: YYYY-MM-DD"
   ]
  },
  {
   "cell_type": "markdown",
   "metadata": {},
   "source": [
    "## Data Augmentation\n",
    "\n",
    "There are three directions that we can go from here\n",
    "\n",
    "1. **Location** -> Remember the example from '2-4_pandas.ipynb' and how it made use of the locations that the letters were sent to and from? We can do that here too!\n",
    "    \n",
    "    For this particular task, I prefer using Google Sheets, especially since we have only a handful letters. My goal here is to ensure that I have a clean csv where the location is uniformly edited and that I can use this location information to augment my dataset.\n",
    "\n",
    "    This augmentation process includes adding Wikidata IDs and coordinates.\n",
    "\n",
    "    The result of this process can be found in \"Data/montagu/montagu_letters_for_mapping.csv\"\n",
    "\n",
    "2. **Letter bodies** -> We can start analyzing the actual texts of the letters\n",
    "    This task includes normalizing the texts, running algorithms like POS-tagging and Named Entity Recognition and even getting embeddings for our letter.\n",
    "\n",
    "3. **People** -> In this edited volume that we extracted the letters from, the editors were kept everything the same as the original 1790 edition. However, in some other editions of Montagu's letters, different scholars have chosen to identify who the recipients were. We can look this information up to augment our dataset"
   ]
  },
  {
   "cell_type": "markdown",
   "metadata": {},
   "source": [
    "### Letter bodies\n",
    "\n",
    "Let's start looking at the letter bodies and what they contain, similar to how we analyzed Borges' poem in 2-6_text_analysis_introduction.ipynb\n",
    "\n"
   ]
  },
  {
   "cell_type": "code",
   "execution_count": 2,
   "metadata": {},
   "outputs": [],
   "source": [
    "# Let's get the most updated version of our data\n",
    "# We will use the version that has been manually corrected\n",
    "\n",
    "montagu = pd.read_csv('../Data/montagu/montagu_letters_v1.csv')"
   ]
  },
  {
   "cell_type": "code",
   "execution_count": null,
   "metadata": {},
   "outputs": [],
   "source": [
    "montagu.head()"
   ]
  },
  {
   "cell_type": "code",
   "execution_count": null,
   "metadata": {},
   "outputs": [],
   "source": [
    "# Looks good! Let's get one letter and start working with it\n",
    "\n",
    "letter_35 = montagu['body'].iloc[34]  # Remember that iloc is zero-indexed\n",
    "print(letter_35)\n"
   ]
  },
  {
   "cell_type": "code",
   "execution_count": null,
   "metadata": {},
   "outputs": [],
   "source": [
    "# Let's get some basic statistics about the letter\n",
    "\n",
    "print(f\"Length of letter 35: {len(letter_35)} characters\")\n",
    "print(f\"Number of words in letter 35: {len(letter_35.split())} words\")"
   ]
  },
  {
   "cell_type": "code",
   "execution_count": null,
   "metadata": {},
   "outputs": [],
   "source": [
    "from string import punctuation\n",
    "\n",
    "punct_count = 0\n",
    "for char in punctuation:\n",
    "    punct_count += letter_35.count(char)\n",
    "print(punct_count)"
   ]
  },
  {
   "cell_type": "code",
   "execution_count": null,
   "metadata": {},
   "outputs": [],
   "source": [
    "sum = 0\n",
    "print(sum)"
   ]
  },
  {
   "cell_type": "code",
   "execution_count": null,
   "metadata": {},
   "outputs": [],
   "source": [
    "sum += 1\n",
    "print(sum)"
   ]
  },
  {
   "cell_type": "code",
   "execution_count": null,
   "metadata": {},
   "outputs": [],
   "source": []
  },
  {
   "cell_type": "code",
   "execution_count": null,
   "metadata": {},
   "outputs": [],
   "source": [
    "from string import punctuation\n",
    "print(punctuation)\n",
    "print(len(punctuation))"
   ]
  },
  {
   "cell_type": "code",
   "execution_count": null,
   "metadata": {},
   "outputs": [],
   "source": [
    "# How many punctuation marks are in the letter?\n",
    "\n",
    "punctuation_count = 0\n",
    "\n",
    "for char in letter_35:\n",
    "    if char in punctuation:\n",
    "        punctuation_count += 1\n",
    "\n",
    "print(punctuation_count)"
   ]
  },
  {
   "cell_type": "code",
   "execution_count": null,
   "metadata": {},
   "outputs": [],
   "source": [
    "print(\"Percentage of punctuation marks in letter 35:\")\n",
    "print(f\"{(punctuation_count / len(letter_35)) * 100:.2f}%\")"
   ]
  },
  {
   "cell_type": "code",
   "execution_count": null,
   "metadata": {},
   "outputs": [],
   "source": [
    "# Before we continue, let's split the letter into sentences\n",
    "\n",
    "import nltk\n",
    "nltk.download('punkt')\n",
    "nltk.download('punkt_tab')\n",
    "from nltk.tokenize import sent_tokenize\n",
    "\n",
    "# Tokenize the letter into sentences\n",
    "letter_35_sentences = sent_tokenize(letter_35)\n",
    "\n",
    "print(f\"Number of sentences in letter 35: {len(letter_35_sentences)}\")\n",
    "\n",
    "counter = 1\n",
    "for sentence in letter_35_sentences:\n",
    "    print(counter) \n",
    "    print(sentence)\n",
    "    counter += 1"
   ]
  },
  {
   "cell_type": "code",
   "execution_count": null,
   "metadata": {},
   "outputs": [],
   "source": [
    "# When we split it sentence by sentence, we can see that the sentences have some line break issues\n",
    "# Sometimes analyzing the text can reveal formatting issues that need to be addressed, \n",
    "# especially when dealing with historical texts or texts extracted from formats like ePub.\n",
    "\n",
    "# Let's fix the line breaks in the actual letter\n",
    "\n",
    "letter_35_test = letter_35.replace('\\n', ' ')\n",
    "\n",
    "letter_35_sentences_test = sent_tokenize(letter_35_test)\n",
    "\n",
    "print(f\"Number of sentences in letter 35: {len(letter_35_sentences_test)}\")\n",
    "\n",
    "counter = 1\n",
    "for sentence in letter_35_sentences_test:\n",
    "    print(counter) \n",
    "    print(sentence)\n",
    "    counter += 1\n"
   ]
  },
  {
   "cell_type": "code",
   "execution_count": null,
   "metadata": {},
   "outputs": [],
   "source": [
    "# Now we can see that the sentences are much cleaner and easier to read\n",
    "# Let's save the cleaned letter back to the DataFrame and use the same approach for all letters\n",
    "\n",
    "# We will talk more about the lambda function next week\n",
    "\n",
    "montagu['body_cleaned'] = montagu['body'].apply(lambda x: x.replace('\\n', ' '))\n",
    "\n",
    "# Now let's save the updated DataFrame to a new CSV file\n",
    "montagu.to_csv('../Data/montagu/montagu_letters_v2.csv', index=False) # note the name change here! versioning is important"
   ]
  },
  {
   "cell_type": "code",
   "execution_count": 3,
   "metadata": {},
   "outputs": [],
   "source": [
    "# Let's go back to working with Letter 35\n",
    "# We will override the previous letter_35 variable to use the cleaned version\n",
    "\n",
    "import pandas as pd\n",
    "montagu = pd.read_csv('../Data/montagu/montagu_letters_v2.csv')\n",
    "\n",
    "letter_35 = montagu['body_cleaned'].iloc[34]  # Remember that iloc is zero-indexed"
   ]
  },
  {
   "cell_type": "code",
   "execution_count": 4,
   "metadata": {},
   "outputs": [
    {
     "name": "stdout",
     "output_type": "stream",
     "text": [
      "I HAVE had the advantage of very fine weather, all my journey; and as the summer is now in its beauty, I enjoyed the pleasure of fine prospects; and the meadows being full of all sorts of garden flowers, and sweet herbs, my berlin perfumed the air as it pressed them. The grand signior furnished us with thirty covered waggons for our baggage, and five coaches of the country for my women. We found the road full of the great spahis and their equipages coming out of Asia to the war. They always travel with tents; but I chose to ly in houses all the way. I will not trouble you with the names of the villages we passed, in which there was nothing remarkable, but at Ciorlei, where there was a conac, or little seraglio, built for the use of the grand signior, when he goes this road. I had the curiosity to view all the apartments destined for the ladies of his court. They were in the midst of a thick grove of trees, made fresh by fountains; but I was most surprised to see the walls almost covered with little distiches of Turkish verse, wrote with pencils. I made my interpreter explain them to me, and I found several of them very well turned; though I easily believed him, that they had lost much of their beauty in the translation. One was literally thus in English: We come into this world; we lodge, and we depart; He never goes, that's lodged within my heart. THE rest of our journey was through fine painted meadows, by the side of the sea of Marmora, the ancient Propontis. We lay the next night at Selivrea, anciently a noble town. It is now a good sea-port, and neatly built enough, and has a bridge of thirty-two arches. Here is a famous ancient Greek church. I had given one of my coaches to a Greek lady, who desired the conveniency of travelling with me; she designed to pay her devotions, and I was glad of the opportunity of going with her. I found it an ill-built edifice, set out with the same sort of ornaments, but less rich, as the Roman-catholic churches. They shewed me a saint's body, where I threw a piece of money; and a picture of the virgin Mary, drawn by the hand of St Luke, very little to the credit of his painting; but, however, the finest Madona (sic) of Italy, is not more famous for her miracles. The Greeks have a monstrous taste in their pictures, which, for more finery, are always drawn upon a gold ground. You may imagine what a good air this has; but they have no notion, either of shade or proportion. They have a bishop here, who officiated in his purple robe, and sent me a candle almost as big as myself for a present, when I was at my lodging. We lay that night at a town called Bujuk Cekmege, or Great Bridge; and the night following, at Kujuk Cekmege, or Little Bridge; in a very pleasant lodging, formerly a monastery of dervises; having before it a large court, encompassed with marble cloisters, with a good fountain in the middle. The prospect from this place, and the gardens round it, is the most agreeable I have seen; and shews, that monks of all religions know how to chuse their retirements. 'Tis now belonging to a hogia or schoolmaster, who teaches boys here. I asked him to shew me his own apartment, and was surprised to see him point to a tall cypress tree in the garden, on the top of which was a place for a bed for himself, and a little lower, one for his wife and two children, who slept there every night. I was so much diverted with the fancy, I resolved to examine his nest nearer; but after going up fifty steps, I found I had still fifty to go up, and then I must climb from branch to branch, with some hazard of my neck. I thought it therefore the best way to come down again. WE arrived the next day at Constantinople; but I can yet tell you very little of it, all my time having been taken up with receiving visits, which are, at least, a very good entertainment to the eyes, the young women being all beauties, and their beauty highly improved by the high taste of their dress. Our palace is in Pera, which is no more a suburb of Constantinople, than Westminster is a suburb to London. All the ambassadors are lodged very near each other. One part of our house shews us the port, the city, and the seraglio, and the distant hills of Asia; perhaps, all together, the most beautiful prospect in the world. A CERTAIN French author says, Constantinople is twice as big as Paris. Mr W——y is unwilling to own 'tis bigger than London, though I confess it appears to me to be so; but I don't believe it is so populous. The burying fields about it are certainly much larger than the whole city. 'Tis surprising what a vast deal of land is lost this way in Turkey. Sometimes I have seen burying places of several miles, belonging to very inconsiderable villages, which were formerly great towns, and retain no other mark of their ancient grandeur, than this dismal one. On no occasion do they ever remove a stone that serves for a monument. Some of them are costly enough, being of very fine marble. They set up a pillar, with a carved turbant on the top of it, to the memory of a man; and as the turbants, by their different shapes, shew the quality or profession, 'tis in a manner putting up the arms of the deceased; besides, the pillar commonly bears an inscription in gold letters. The ladies have a simple pillar without other ornament, except those that die unmarried, who have a rose on the top of their monument. The sepulchres of particular families are railed in, and planted round with trees. Those of the sultans, and some great men, have lamps constantly burning in them. WHEN I spoke of their religion, I forgot to mention two particularities, one of which I have read of, but it seemed so odd to me, I could not believe it; yet 'tis certainly true; that when a man has divorced his wife, in the most solemn manner, he can take her again, upon no other terms, than permitting another man to pass a night with her; and there are some examples of those who have submitted to this law, rather than not have back their beloved. The other point of doctrine is very extraordinary. Any woman that dies unmarried is looked upon to die in a state of reprobation. To confirm this belief, they reason, that the end of the creation of woman is to increase and multiply; and that she is only properly employed in the works of her calling, when she is bringing forth children, or taking care of them, which are all the virtues that God expects from her. And indeed, their way of life, which shuts them out of all public commerce, does not permit them any other. Our vulgar notion, that they don't own women to have any souls, is a mistake. 'Tis true, they say, they are not of so elevated a kind, and therefore must not hope to be admitted into the paradise appointed for the men, who are to be entertained by celestial beauties. But there is a place of happiness destined for souls of the inferior order, where all good women are to be in eternal bliss. Many of them are very superstitious, and will not remain widows ten days, for fear of dying in the reprobate state of an useless creature. But those that like their liberty, and are not slaves to their religion, content themselves with marrying when they are afraid of dying. This is a piece of theology, very different from that which teaches nothing to be more acceptable to God than a vow of perpetual virginity: which divinity is most rational, I leave you to determine. I HAVE already made some progress in a collection of Greek medals. Here are several professed antiquaries, who are ready to serve any body that desires them. But you cannot imagine how they stare in my face, when I enquire about them, as if no body was permitted to seek after medals, till they were grown a piece of antiquity themselves. I have got some very valuable ones of the Macedonian kings, particularly one of Perseus, so lively, I fancy I can see all his ill qualities in his face. I have a prophyry (sic) head finely cut, of the true Greek sculpture; but who it represents, is to be guessed at by the learned when I return. For you are not to suppose these antiquaries (who are all Greeks) know any thing. Their trade is only to sell; they have correspondents at Aleppo, Grand Cairo, in Arabia and Palestine, who send them all they can find, and very often great heaps, that are only fit to melt into pans and kettles. They get the best price they can for them, without knowing those that are valuable from those that are not. Those that pretend to skill, generally find out the image of some saint in the medals of the Greek cities. One of them, shewing me the figure of a Pallas, with a victory in her hand on a reverse, assured me, it was the Virgin, holding a crucifix. The same man offered me the head of a Socrates, on a sardonyx; and, to enhance the value, gave him the title of saint Augustine. I have bespoke a mummy, which I hope will come safe to my hands, notwithstanding the misfortune that befel (sic) a very fine one, designed for the king of Sweden. He gave a great price for it, and the Turks took it into their heads, that he must have some considerable project depending upon it. They fancied it the body of, God knows who; and that the state of their empire mystically depended on the conversation of it. Some old prophecies were remembered upon this occasion, and the mummy committed prisoner to the Seven Towers, where it has remained under close confinement ever since, I dare not try my interest in so considerable a point, as the release of it; but I hope mine will pass without examination. I can tell you nothing more at present of this famous city. When I have looked a little about me, you shall hear from me again. I am, Sir, Your's, &c. &c.\n"
     ]
    }
   ],
   "source": [
    "print(letter_35)"
   ]
  },
  {
   "cell_type": "code",
   "execution_count": null,
   "metadata": {},
   "outputs": [],
   "source": [
    "print(f\"Length of letter 35: {len(letter_35)} characters\")\n",
    "print(f\"Number of words in letter 35: {len(letter_35.split())} words\")"
   ]
  },
  {
   "cell_type": "code",
   "execution_count": null,
   "metadata": {},
   "outputs": [],
   "source": [
    "# How many unique words are in the letter?\n",
    "\n",
    "print(f\"Unique words in letter 35: {len(set(letter_35.split()))}\")"
   ]
  },
  {
   "cell_type": "code",
   "execution_count": null,
   "metadata": {},
   "outputs": [],
   "source": [
    "# Aren't we forgetting something?\n",
    "\n",
    "# Ah yes, lowercase! Let's convert the letter to lowercase and then count unique words\n",
    "\n",
    "letter_35_lower = letter_35.lower()\n",
    "unique_words = set(letter_35_lower.split())\n",
    "print(f\"Unique words in letter 35 (lowercase): {len(unique_words)}\")"
   ]
  },
  {
   "cell_type": "code",
   "execution_count": null,
   "metadata": {},
   "outputs": [],
   "source": [
    "# Let's tokenize our sentences again and this time we will use the lowercase version of the letter\n",
    "sentences = sent_tokenize(letter_35_lower)\n",
    "\n",
    "counter = 1\n",
    "for sentence in sentences[:5]: # only print the first 5\n",
    "    print(counter) \n",
    "    print(sentence)\n",
    "    counter += 1"
   ]
  },
  {
   "cell_type": "code",
   "execution_count": null,
   "metadata": {},
   "outputs": [],
   "source": [
    "from nltk import pos_tag\n",
    "nltk.download('averaged_perceptron_tagger_eng') \n",
    "from nltk.tokenize import word_tokenize\n",
    "\n",
    "# Sample sentence for POS tagging\n",
    "sample_sentence = sentences[0]  # First sentence for demonstration\n",
    "\n",
    "# Apply POS tagging\n",
    "pos_tags = pos_tag(word_tokenize(sample_sentence))\n",
    "\n",
    "print(f\"POS Tags for the sample sentence: {pos_tags}\")\n"
   ]
  },
  {
   "cell_type": "markdown",
   "metadata": {},
   "source": [
    "### What are POS tags anyways?\n",
    "\n",
    "POS tagging (Part-of-Speech tagging) is the process of assigning a specific part-of-speech category (e.g., noun, verb, adjective, etc.) to each word in a sentence. This helps in understanding the grammatical structure of a sentence and is a key step in many natural language processing (NLP) tasks such as information extraction, machine translation, and text analysis.\n",
    "\n",
    "POS tags typically include categories like:\n",
    "\n",
    "- Nouns (e.g., \"dog\", \"city\")\n",
    "\n",
    "- Verbs (e.g., \"run\", \"is\")\n",
    "\n",
    "- Adjectives (e.g., \"quick\", \"beautiful\")\n",
    "\n",
    "- Adverbs (e.g., \"quickly\", \"very\")\n",
    "\n",
    "- Pronouns (e.g., \"he\", \"they\")\n",
    "\n",
    "- Prepositions (e.g., \"in\", \"on\")\n",
    "\n",
    "- Conjunctions (e.g., \"and\", \"but\")\n",
    "\n",
    "\n",
    "\n"
   ]
  },
  {
   "cell_type": "markdown",
   "metadata": {},
   "source": [
    "### POS Tags in our example\n",
    "\n",
    "- **NN (Noun, Singular)**: Represents singular nouns.\n",
    "    - *advantage, weather, journey, summer, beauty, pleasure, prospects, meadows, flowers, herbs, air*\n",
    "\n",
    "- **VBP (Verb, Non-3rd Person Singular Present)**: A verb in the present tense used with subjects other than third-person singular (he/she/it).\n",
    "    - *have*\n",
    "\n",
    "- **VBN (Verb, Past Participle)**: A verb in past participle form, often used with auxiliary verbs.\n",
    "    - *had*\n",
    "\n",
    "- **DT (Determiner)**: A word that introduces a noun.\n",
    "    - *the, all*\n",
    "\n",
    "- **IN (Preposition/Subordinating Conjunction)**: Used to show relationships between elements in the sentence.\n",
    "    - *of, in, as*\n",
    "\n",
    "- **RB (Adverb)**: Modifies or describes a verb, adjective, or another adverb.\n",
    "    - *very, now*\n",
    "\n",
    "- **JJ (Adjective)**: Describes or modifies a noun.\n",
    "    - *fine, sweet*\n",
    "\n",
    "- **PRP$ (Possessive Pronoun)**: A pronoun that shows ownership or possession.\n",
    "    - *my, its*\n",
    "\n",
    "- **VBD (Verb, Past Tense)**: A verb in the simple past tense.\n",
    "    - *enjoyed, perfumed, pressed*\n",
    "\n",
    "- **CC (Coordinating Conjunction)**: Used to connect words, phrases, or clauses of equal importance.\n",
    "    - *and*\n",
    "\n",
    "- **PRP (Personal Pronoun)**: Refers to a person or thing.\n",
    "    - *I, it, them*\n",
    "\n",
    "- **NNS (Noun, Plural)**: Represents plural nouns.\n",
    "    - *prospects, meadows, sorts, flowers, herbs*\n",
    "\n",
    "- **. (Punctuation)**: Marks the end of a sentence or clause.\n",
    "    - *.*\n"
   ]
  },
  {
   "cell_type": "markdown",
   "metadata": {},
   "source": [
    "### What can we do with POS Tagging?\n",
    "\n",
    "We can analyze the structure of the sentences, identify parts of speech, and even extract specific types of words.\n",
    "\n",
    "For example, we can extract all adjectives from this letter."
   ]
  },
  {
   "cell_type": "code",
   "execution_count": null,
   "metadata": {},
   "outputs": [],
   "source": [
    "# What can we do with POS Tagging?\n",
    "# We can analyze the structure of the sentences, identify parts of speech, and even extract specific types of words.\n",
    "# For example, we can extract all adjectives from this letter.\n",
    "\n",
    "# First we need to create a function that extracts adjectives from a sentence\n",
    "def extract_adjectives(sentence):\n",
    "    words = word_tokenize(sentence)\n",
    "    pos_tags = pos_tag(words)\n",
    "    adjectives = [word for word, tag in pos_tags if tag.startswith('JJ')]  # 'JJ' is the tag for adjectives\n",
    "    return adjectives\n",
    "\n"
   ]
  },
  {
   "cell_type": "code",
   "execution_count": null,
   "metadata": {},
   "outputs": [],
   "source": [
    "# Let's check to see that our function works\n",
    "sample_sentence = sentences[0]  # First sentence for demonstration\n",
    "adjectives = extract_adjectives(sample_sentence)\n",
    "print(f\"Adjectives in the sample sentence: {adjectives}\")"
   ]
  },
  {
   "cell_type": "code",
   "execution_count": null,
   "metadata": {},
   "outputs": [],
   "source": [
    "# Our function works! But it is not without issues.\n",
    "# Why is i and full in the list of adjectives?\n",
    "\n",
    "print(sample_sentence)\n",
    "print(f\"POS Tags for the sample sentence: {pos_tags}\")"
   ]
  },
  {
   "cell_type": "markdown",
   "metadata": {},
   "source": [
    "POS Tags for the sample sentence: [('i', 'NN'), ('have', 'VBP'), ('had', 'VBN'), ('the', 'DT'), ('advantage', 'NN'), ('of', 'IN'), ('very', 'RB'), **('fine', 'JJ')**, ('weather', 'NN'), (',', ','), ('all', 'DT'), ('my', 'PRP$'), ('journey', 'NN'), (';', ':'), ('and', 'CC'), ('as', 'IN'), ('the', 'DT'), ('summer', 'NN'), ('is', 'VBZ'), ('now', 'RB'), ('in', 'IN'), ('its', 'PRP$'), ('beauty', 'NN'), (',', ','), **('i', 'JJ')**, ('enjoyed', 'VBD'), ('the', 'DT'), ('pleasure', 'NN'), ('of', 'IN'), **('fine', 'JJ')**, ('prospects', 'NNS'), (';', ':'), ('and', 'CC'), ('the', 'DT'), ('meadows', 'NNS'), ('being', 'VBG'), **('full', 'JJ')**, ('of', 'IN'), ('all', 'DT'), ('sorts', 'NNS'), ('of', 'IN'), ('garden', 'NN'), ('flowers', 'NNS'), (',', ','), ('and', 'CC'), **('sweet', 'JJ')**, ('herbs', 'NN'), (',', ','), ('my', 'PRP$'), ('berlin', 'NN'), ('perfumed', 'VBD'), ('the', 'DT'), ('air', 'NN'), ('as', 'IN'), ('it', 'PRP'), ('pressed', 'VBD'), ('them', 'PRP'), ('.', '.')]"
   ]
  },
  {
   "cell_type": "code",
   "execution_count": null,
   "metadata": {},
   "outputs": [],
   "source": [
    "# We can improve our function by filtering out certain words that are not adjectives\n",
    "\n",
    "# Here we rely on a simple heuristic: if the word that is tagged as an adjective is followed by a noun, it is likely an adjective.\n",
    "\n",
    "def extract_adjectives_improved(sentence):\n",
    "    sentence = sentence.lower()  # Convert to lowercase for consistency\n",
    "    words = word_tokenize(sentence)\n",
    "    tagged_words = pos_tag(words)\n",
    "    adjectives = []\n",
    "    for i in range(len(tagged_words) - 1):\n",
    "        current_word, current_tag = tagged_words[i]\n",
    "        next_word, next_tag = tagged_words[i + 1]\n",
    "        if current_tag.startswith('JJ') and next_tag.startswith('NN'):\n",
    "            adjectives.append(current_word)\n",
    "    return adjectives"
   ]
  },
  {
   "cell_type": "code",
   "execution_count": null,
   "metadata": {},
   "outputs": [],
   "source": [
    "print(extract_adjectives_improved(sample_sentence))"
   ]
  },
  {
   "cell_type": "markdown",
   "metadata": {},
   "source": [
    "Much better! Let's scale this up!"
   ]
  },
  {
   "cell_type": "code",
   "execution_count": null,
   "metadata": {},
   "outputs": [],
   "source": [
    "# Let's get adjectives from all sentences in the letter\n",
    "all_adjectives = []\n",
    "for sentence in sentences:\n",
    "    adjectives = extract_adjectives_improved(sentence)\n",
    "    all_adjectives.extend(adjectives)\n",
    "\n",
    "print(all_adjectives)"
   ]
  },
  {
   "cell_type": "markdown",
   "metadata": {},
   "source": [
    "### Why extend and not append?\n",
    "\n",
    "Last week we learnt to use `append()` to add an element to a list. Now we are using `extend()` instead. Why?\n",
    "\n",
    "`append()` simply adds 'adjectives' in each iteration of the for loop to the list 'all_adjectives'. In this case 'adjectives' is also a list. This means that if we used `append()` we would be creating a list of lists. What we actually want is to create a list of strings, so we need to `extend()` our list 'all_adjectives' with the strings in the list 'adjectives' every time that list is created. "
   ]
  },
  {
   "cell_type": "code",
   "execution_count": null,
   "metadata": {},
   "outputs": [],
   "source": [
    "# Let's get the unique adjectives from the letter and count them\n",
    "print(f\"Unique adjectives in letter 35: {len(set(all_adjectives))}\")"
   ]
  },
  {
   "cell_type": "code",
   "execution_count": null,
   "metadata": {},
   "outputs": [],
   "source": [
    "# Let's see all the unique adjectives in the letter and their counts\n",
    "from collections import Counter\n",
    "adjective_counts = Counter(all_adjectives)\n",
    "\n",
    "# Print the most common 10 adjectives\n",
    "for adj in adjective_counts.most_common(10):\n",
    "    print(f\"{adj[0]}: {adj[1]}\")\n"
   ]
  },
  {
   "cell_type": "code",
   "execution_count": null,
   "metadata": {},
   "outputs": [],
   "source": [
    "# Perfect! Now let's do this for all letters in the dataset and save the results in a new column in the DataFrame\n",
    "montagu['adjectives'] = montagu['body_cleaned'].apply(lambda x: extract_adjectives_improved(x))"
   ]
  },
  {
   "cell_type": "code",
   "execution_count": null,
   "metadata": {},
   "outputs": [],
   "source": [
    "montagu['adjectives'].head()"
   ]
  },
  {
   "cell_type": "code",
   "execution_count": null,
   "metadata": {},
   "outputs": [],
   "source": [
    "# Finally, let's get all the unique adjectives from all letters and their counts\n",
    "\n",
    "adjectives_all_letters = []\n",
    "for adjectives in montagu['adjectives']:\n",
    "    adjectives_all_letters.extend(adjectives)\n",
    "\n",
    "adjective_counts_all_letters = Counter(adjectives_all_letters)\n",
    "\n",
    "for adj in adjective_counts_all_letters.most_common(10):\n",
    "    print(f\"{adj[0]}: {adj[1]}\")\n",
    "\n"
   ]
  },
  {
   "cell_type": "code",
   "execution_count": null,
   "metadata": {},
   "outputs": [],
   "source": [
    "# Let's visualize the most common adjectives in a bar chart\n",
    "import matplotlib.pyplot as plt\n",
    "# Get the most common adjectives and their counts\n",
    "most_common_adjectives = adjective_counts_all_letters.most_common(10)\n",
    "adjectives, counts = zip(*most_common_adjectives)\n",
    "plt.figure(figsize=(12, 6))\n",
    "plt.bar(adjectives, counts, color='skyblue')\n",
    "plt.xlabel('Adjectives')\n",
    "plt.ylabel('Count')\n",
    "plt.title('Most Common Adjectives in Montagu Letters')\n",
    "plt.xticks(rotation=45)\n",
    "plt.tight_layout()\n",
    "plt.show()"
   ]
  },
  {
   "cell_type": "code",
   "execution_count": null,
   "metadata": {},
   "outputs": [],
   "source": []
  }
 ],
 "metadata": {
  "kernelspec": {
   "display_name": "dighum101",
   "language": "python",
   "name": "python3"
  },
  "language_info": {
   "codemirror_mode": {
    "name": "ipython",
    "version": 3
   },
   "file_extension": ".py",
   "mimetype": "text/x-python",
   "name": "python",
   "nbconvert_exporter": "python",
   "pygments_lexer": "ipython3",
   "version": "3.12.10"
  }
 },
 "nbformat": 4,
 "nbformat_minor": 2
}
